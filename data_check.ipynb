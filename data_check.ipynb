{
 "cells": [
  {
   "cell_type": "code",
   "execution_count": 15,
   "metadata": {},
   "outputs": [
    {
     "data": {
      "text/plain": [
       "['DAISY 데이지_39_comment_data',\n",
       " 'youtrue',\n",
       " '기우쌤',\n",
       " '김습습',\n",
       " '로즈하',\n",
       " '류스펜나',\n",
       " '리안',\n",
       " '샨토끼',\n",
       " '소연뷰티',\n",
       " '씬님',\n",
       " '아옳이',\n",
       " '안녕하새은',\n",
       " '오늘의하늘data',\n",
       " '회사원A']"
      ]
     },
     "execution_count": 15,
     "metadata": {},
     "output_type": "execute_result"
    }
   ],
   "source": [
    "# 폴더 속 파일 목록 확인하는 코드\n",
    "\n",
    "import os\n",
    "\n",
    "path_dir = './data'\n",
    "youtuber_list = os.listdir(path_dir)\n",
    "youtuber_list.sort()\n",
    "youtuber_list"
   ]
  },
  {
   "cell_type": "code",
   "execution_count": 27,
   "metadata": {},
   "outputs": [],
   "source": [
    "total = 0\n",
    "df = pd.DataFrame(columns=['youtuber', 'video', 'comment_num'])\n",
    "for youtuber in youtuber_list:\n",
    "    path_dir = './data/' + youtuber\n",
    "    video_list = os.listdir(path_dir)\n",
    "    for video in video_list:\n",
    "        temp = pd.read_csv(f'./data/{youtuber}/{video}')\n",
    "        total += len(temp)\n",
    "        df.loc[len(df), :] = {'youtuber': youtuber, 'video': video, 'comment_num': len(temp)}"
   ]
  },
  {
   "cell_type": "code",
   "execution_count": 29,
   "metadata": {},
   "outputs": [
    {
     "data": {
      "text/html": [
       "<div>\n",
       "<style scoped>\n",
       "    .dataframe tbody tr th:only-of-type {\n",
       "        vertical-align: middle;\n",
       "    }\n",
       "\n",
       "    .dataframe tbody tr th {\n",
       "        vertical-align: top;\n",
       "    }\n",
       "\n",
       "    .dataframe thead th {\n",
       "        text-align: right;\n",
       "    }\n",
       "</style>\n",
       "<table border=\"1\" class=\"dataframe\">\n",
       "  <thead>\n",
       "    <tr style=\"text-align: right;\">\n",
       "      <th></th>\n",
       "      <th>youtuber</th>\n",
       "      <th>video</th>\n",
       "      <th>comment_num</th>\n",
       "    </tr>\n",
       "  </thead>\n",
       "  <tbody>\n",
       "    <tr>\n",
       "      <th>0</th>\n",
       "      <td>DAISY 데이지_39_comment_data</td>\n",
       "      <td>DAISY 데이지_0_comment_data.csv</td>\n",
       "      <td>20</td>\n",
       "    </tr>\n",
       "    <tr>\n",
       "      <th>1</th>\n",
       "      <td>DAISY 데이지_39_comment_data</td>\n",
       "      <td>DAISY 데이지_10_comment_data.csv</td>\n",
       "      <td>12</td>\n",
       "    </tr>\n",
       "    <tr>\n",
       "      <th>2</th>\n",
       "      <td>DAISY 데이지_39_comment_data</td>\n",
       "      <td>DAISY 데이지_11_comment_data.csv</td>\n",
       "      <td>209</td>\n",
       "    </tr>\n",
       "    <tr>\n",
       "      <th>3</th>\n",
       "      <td>DAISY 데이지_39_comment_data</td>\n",
       "      <td>DAISY 데이지_12_comment_data.csv</td>\n",
       "      <td>158</td>\n",
       "    </tr>\n",
       "    <tr>\n",
       "      <th>4</th>\n",
       "      <td>DAISY 데이지_39_comment_data</td>\n",
       "      <td>DAISY 데이지_13_comment_data.csv</td>\n",
       "      <td>20</td>\n",
       "    </tr>\n",
       "    <tr>\n",
       "      <th>...</th>\n",
       "      <td>...</td>\n",
       "      <td>...</td>\n",
       "      <td>...</td>\n",
       "    </tr>\n",
       "    <tr>\n",
       "      <th>640</th>\n",
       "      <td>회사원A</td>\n",
       "      <td>회사원A_91_comment_data.csv</td>\n",
       "      <td>95</td>\n",
       "    </tr>\n",
       "    <tr>\n",
       "      <th>641</th>\n",
       "      <td>회사원A</td>\n",
       "      <td>회사원A_92_comment_data.csv</td>\n",
       "      <td>249</td>\n",
       "    </tr>\n",
       "    <tr>\n",
       "      <th>642</th>\n",
       "      <td>회사원A</td>\n",
       "      <td>회사원A_93_comment_data.csv</td>\n",
       "      <td>330</td>\n",
       "    </tr>\n",
       "    <tr>\n",
       "      <th>643</th>\n",
       "      <td>회사원A</td>\n",
       "      <td>회사원A_9_comment_data.csv</td>\n",
       "      <td>57</td>\n",
       "    </tr>\n",
       "    <tr>\n",
       "      <th>644</th>\n",
       "      <td>회사원A</td>\n",
       "      <td>회사원A_video_data.csv</td>\n",
       "      <td>94</td>\n",
       "    </tr>\n",
       "  </tbody>\n",
       "</table>\n",
       "<p>645 rows × 3 columns</p>\n",
       "</div>"
      ],
      "text/plain": [
       "                      youtuber                          video comment_num\n",
       "0    DAISY 데이지_39_comment_data   DAISY 데이지_0_comment_data.csv          20\n",
       "1    DAISY 데이지_39_comment_data  DAISY 데이지_10_comment_data.csv          12\n",
       "2    DAISY 데이지_39_comment_data  DAISY 데이지_11_comment_data.csv         209\n",
       "3    DAISY 데이지_39_comment_data  DAISY 데이지_12_comment_data.csv         158\n",
       "4    DAISY 데이지_39_comment_data  DAISY 데이지_13_comment_data.csv          20\n",
       "..                         ...                            ...         ...\n",
       "640                       회사원A       회사원A_91_comment_data.csv          95\n",
       "641                       회사원A       회사원A_92_comment_data.csv         249\n",
       "642                       회사원A       회사원A_93_comment_data.csv         330\n",
       "643                       회사원A        회사원A_9_comment_data.csv          57\n",
       "644                       회사원A            회사원A_video_data.csv          94\n",
       "\n",
       "[645 rows x 3 columns]"
      ]
     },
     "execution_count": 29,
     "metadata": {},
     "output_type": "execute_result"
    }
   ],
   "source": [
    "df"
   ]
  },
  {
   "cell_type": "code",
   "execution_count": 28,
   "metadata": {},
   "outputs": [
    {
     "data": {
      "text/plain": [
       "79855"
      ]
     },
     "execution_count": 28,
     "metadata": {},
     "output_type": "execute_result"
    }
   ],
   "source": [
    "total"
   ]
  },
  {
   "cell_type": "code",
   "execution_count": 14,
   "metadata": {},
   "outputs": [
    {
     "data": {
      "text/plain": [
       "310"
      ]
     },
     "execution_count": 14,
     "metadata": {},
     "output_type": "execute_result"
    }
   ],
   "source": [
    "temp = pd.read_csv(f'./data/{youtuber_list}/{video_list[0]}')\n",
    "len(temp)"
   ]
  }
 ],
 "metadata": {
  "kernelspec": {
   "display_name": "py_397",
   "language": "python",
   "name": "py_397"
  },
  "language_info": {
   "codemirror_mode": {
    "name": "ipython",
    "version": 3
   },
   "file_extension": ".py",
   "mimetype": "text/x-python",
   "name": "python",
   "nbconvert_exporter": "python",
   "pygments_lexer": "ipython3",
   "version": "3.9.7"
  },
  "orig_nbformat": 4
 },
 "nbformat": 4,
 "nbformat_minor": 2
}
